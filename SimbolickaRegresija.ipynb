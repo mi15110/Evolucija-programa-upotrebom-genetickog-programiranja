{
 "cells": [
  {
   "cell_type": "markdown",
   "metadata": {
    "colab_type": "text",
    "id": "HizTRMV1Aul9"
   },
   "source": [
    "## Rešavanje problema simboličke regresje upotrebom genetičkog progamiranja\n",
    "\n",
    "Simbolička regresija predstavlja pronalaženje matematičkog izraza koji najbolje opisuje ulazne parametre.\n",
    "Problem je rešen pomoću biblioteke deap."
   ]
  },
  {
   "cell_type": "code",
   "execution_count": 4,
   "metadata": {
    "colab": {},
    "colab_type": "code",
    "id": "DVSVIpw1I_Rj"
   },
   "outputs": [],
   "source": [
    "import operator\n",
    "import math\n",
    "import random\n",
    "import numpy\n",
    "\n",
    "from deap import algorithms\n",
    "from deap import base\n",
    "from deap import creator\n",
    "from deap import tools\n",
    "from deap import gp"
   ]
  },
  {
   "cell_type": "code",
   "execution_count": null,
   "metadata": {
    "colab": {},
    "colab_type": "code",
    "id": "c0xjSP7JvMZa"
   },
   "outputs": [],
   "source": [
    "# Maksimalan broj generacija\n",
    "no_generations = 30\n",
    "\n",
    "# Veličina populacije\n",
    "no_population = 300\n",
    "\n",
    "# Broj jedinki koje će učestvovati u turnirskoj selekciji\n",
    "no_tournaments = 5\n",
    "\n",
    "# Verovatnoća ukrštanja\n",
    "p_xo = 0.7\n",
    "\n",
    "# Verovatnoća mutacije\n",
    "p_m  = 0.3\n",
    "\n",
    "# Naziv ciljne funkcije simboličke regresije\n",
    "index_func = 'sin-lin'\n",
    "\n",
    "# Koja metrika greške će se koristiti (Apsolutna ili kvadratna)\n",
    "UseSqError = True\n",
    "\n",
    "# Raspodela verovatnoće \n",
    "def gauss(mu, sigma, x):\n",
    "    return 1/(sigma * math.sqrt(2 * math.pi)) * math.exp(-1/2*((x-mu)/sigma)**2)\n",
    "\n",
    "# Definisanje ciljnih funkcija simboličke regresije\n",
    "def Problem(x):\n",
    "    switcher = {\n",
    "        'x^2': lambda x: x**2 - 5*x,\n",
    "        'x^4': lambda x: x**4 + x**3 + x**2 + x,\n",
    "        'x^6': lambda x: (x**6)-2*(x**4) + (x**2),\n",
    "        'sin-lin': lambda x: math.sin(math.pi/4+2*x),\n",
    "        'sin-3': lambda x: math.sin(3*(x**3)-(x**2)/7),\n",
    "        'N(0,1)': lambda x: gauss(mu=0, sigma=1, x=x),\n",
    "    }\n",
    "\n",
    "    func = switcher.get(index_func, lambda: \"nothing\")\n",
    "    return func(x)\n",
    "\n",
    "#  Kreiranje test tačaka za evaluaciju funkcija, tačke se nalaze u rasponu od [-Pi, Pi]\n",
    "test_points = numpy.linspace(-math.pi,math.pi, 180).tolist();\n",
    "\n",
    "# Definisanje nove funkcije koja omogućava zaštićeno deljenje\n",
    "def protectedDiv(left, right):\n",
    "    try:\n",
    "        return left / right\n",
    "    except ZeroDivisionError:\n",
    "        return 1\n",
    "\n",
    "# Definišu se funkcije koje će se nalaziti u čvorovima stabla i terminali koji će se nalaziti u listu \n",
    "pset = gp.PrimitiveSet(\"MAIN\", 1)\n",
    "pset.addPrimitive(operator.add, 2)\n",
    "pset.addPrimitive(operator.sub, 2)\n",
    "pset.addPrimitive(operator.mul, 2)\n",
    "pset.addPrimitive(protectedDiv, 2)\n",
    "pset.addPrimitive(operator.neg, 1)\n",
    "pset.addPrimitive(math.cos, 1)\n",
    "pset.addPrimitive(math.sin, 1)\n",
    "pset.addTerminal(1)\n",
    "pset.addTerminal(-1)    \n",
    "\n",
    "# Preimenovanje argumenta funkcije u x\n",
    "pset.renameArguments(ARG0='x')\n",
    "\n",
    "# FitnessMin govori o kom problemu se radi, u ovom slucaju radi se o minimalizovanju iz tog razloga je težina -1\n",
    "creator.create(\"FitnessMin\", base.Fitness, weights=(-1.0,))\n",
    "# Kreiraju se jedinke, bice predstavljene strukturom stabla\n",
    "# Kao funkcija prilagodjenosti koristi se FitnesMin metoda\n",
    "creator.create(\"Individual\", gp.PrimitiveTree, fitness=creator.FitnessMin)\n",
    "\n",
    "    \n",
    "toolbox = base.Toolbox()\n",
    "toolbox.register(\"expr\", gp.genHalfAndHalf, pset=pset, min_=1, max_=2)\n",
    "toolbox.register(\"individual\", tools.initIterate, creator.Individual, toolbox.expr)\n",
    "toolbox.register(\"population\", tools.initRepeat, list, toolbox.individual)\n",
    "toolbox.register(\"compile\", gp.compile, pset=pset)\n",
    "\n",
    "# Evaluacija(Izračunavanje) vrednosti (Funkcija prilagođenosti)\n",
    "def evalSymbReg(individual, points):\n",
    "    func = toolbox.compile(expr=individual)\n",
    "\n",
    "    if UseSqError:\n",
    "      # Apsolutna distanca između ciljne funkcije i  rešenja\n",
    "       error = (abs(func(x) - Problem(x)) for x in points)\n",
    "    else:\n",
    "      # Kvadratna greška\n",
    "       error = (abs(func(x) - Problem(x))**2 for x in points)\n",
    "\n",
    "    return math.fsum(error),\n",
    "\n",
    "# Deklarisanje genetičkih operatora\n",
    "toolbox.register(\"evaluate\", evalSymbReg, points=test_points)\n",
    "# Turnirska selekcija reporodukcije\n",
    "toolbox.register(\"select\", tools.selTournament, tournsize=no_tournaments)\n",
    "# Ukrštsnje u jednoj  tački\n",
    "toolbox.register(\"mate\", gp.cxOnePoint)\n",
    "toolbox.register(\"expr_mut\", gp.genFull, min_=0, max_=2)\n",
    "toolbox.register(\"mutate\", gp.mutUniform, expr=toolbox.expr_mut, pset=pset)\n",
    "\n",
    "# Inicijalizacija random stanja\n",
    "random.seed(318)\n",
    "random.seed()\n",
    "\n",
    "# Kreiranje populacije\n",
    "pop = toolbox.population(n=no_population)\n",
    "# Čuvanje najbolje jedinke za dalju reprodukciju\n",
    "hof = tools.HallOfFame(1)\n",
    "\n",
    "# Statistika\n",
    "# U statistici ce se koristiti fitness funkcija svakog elementa\n",
    "stats_fit = tools.Statistics(lambda ind: ind.fitness.values)\n",
    "stats_size = tools.Statistics(len)\n",
    "# Izračunavanja se kombinuju nad različitm atributima kao što su veličina populacije, fitness vrednosti.. \n",
    "mstats = tools.MultiStatistics(fitness=stats_fit, size=stats_size)\n",
    "mstats.register(\"mdn\", numpy.median)\n",
    "mstats.register(\"avg\", numpy.mean)\n",
    "mstats.register(\"std\", numpy.std)\n",
    "mstats.register(\"min\", numpy.min)\n",
    "mstats.register(\"max\", numpy.max)\n",
    "\n",
    "# Pokretanje procesa evolucije\n",
    "pop, log = algorithms.eaSimple(pop, toolbox, p_xo, p_m, no_generations, stats=mstats,\n",
    "                                       halloffame=hof, verbose=False)\n",
    "# Ako verbose True onda cuvamo i printamo statistiku, da li zelimo da posmatramo sta se desava sa statistikom "
   ]
  },
  {
   "cell_type": "code",
   "execution_count": null,
   "metadata": {
    "colab": {},
    "colab_type": "code",
    "id": "jDB45dBcyp1z"
   },
   "outputs": [],
   "source": [
    "# Reprezentacija najbolje jedinke\n",
    "print(hof[0])"
   ]
  },
  {
   "cell_type": "code",
   "execution_count": 286,
   "metadata": {
    "colab": {},
    "colab_type": "code",
    "id": "EqJkD3E-ytRU"
   },
   "outputs": [
    {
     "data": {
      "image/png": "[encoded data removed]",
      "text/plain": [
       "<Figure size 432x288 with 1 Axes>"
      ]
     },
     "metadata": {
      "needs_background": "light"
     },
     "output_type": "display_data"
    }
   ],
   "source": [
    "# Tačke za testiranje\n",
    "x = test_points\n",
    "f = toolbox.compile(expr=hof[0])\n",
    "y = numpy.empty(len(x))\n",
    "# Izračunata vrednost najbolje jedinke\n",
    "for i in range(len(x)): y[i] = f(x[i])\n",
    "\n",
    "Y = numpy.empty(len(x))\n",
    "# Izračunata vrednost ciljne funkcije\n",
    "for i in range(len(x)): Y[i] = Problem(x[i])\n",
    "    \n",
    "from matplotlib import pyplot\n",
    "fig, ax = pyplot.subplots()\n",
    "ax.plot(x, y, 'r-', label='Najbolje rešenje')\n",
    "ax.plot(x, Y, 'k-', label='Ciljna funkcija')\n",
    "legend = ax.legend(shadow=True, fontsize='x-large')\n",
    "\n",
    "pyplot.show()"
   ]
  }
 ],
 "metadata": {
  "colab": {
   "authorship_tag": "ABX9TyPSWyc/4FOtz4KgzSbcD+Am",
   "collapsed_sections": [],
   "name": "CE310 Mini Project (2019-20).ipynb",
   "provenance": []
  },
  "kernelspec": {
   "display_name": "Python 3",
   "language": "python",
   "name": "python3"
  },
  "language_info": {
   "codemirror_mode": {
    "name": "ipython",
    "version": 3
   },
   "file_extension": ".py",
   "mimetype": "text/x-python",
   "name": "python",
   "nbconvert_exporter": "python",
   "pygments_lexer": "ipython3",
   "version": "3.7.3"
  }
 },
 "nbformat": 4,
 "nbformat_minor": 1
}
